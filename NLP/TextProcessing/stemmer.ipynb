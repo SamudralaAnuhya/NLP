{
 "cells": [
  {
   "cell_type": "code",
   "execution_count": null,
   "metadata": {},
   "outputs": [],
   "source": [
    "!pip install nltk\n",
    "\n",
    "import nltk\n",
    "nltk.download('all')\n"
   ]
  },
  {
   "cell_type": "code",
   "execution_count": 24,
   "metadata": {},
   "outputs": [],
   "source": [
    "from nltk.stem import PorterStemmer , RegexpStemmer , SnowballStemmer\n",
    "\n",
    "words = ['eat' ,'eaten ','eating', 'heating','go','gone' , 'goes' , 'history ' , 'programming ' , 'working' ,'workdone'] "
   ]
  },
  {
   "cell_type": "markdown",
   "metadata": {},
   "source": [
    "#### porterstemmer \n",
    "thsi is a technique to find common words if there are any but somewords it will change the meaning itself"
   ]
  },
  {
   "cell_type": "code",
   "execution_count": 19,
   "metadata": {},
   "outputs": [
    {
     "name": "stdout",
     "output_type": "stream",
     "text": [
      "eat----->eat\n",
      "eaten ----->eaten \n",
      "heating----->heat\n",
      "go----->go\n",
      "gone----->gone\n",
      "goes----->goe\n",
      "history ----->history \n",
      "programming ----->programming \n",
      "working----->work\n",
      "workdone----->workdon\n"
     ]
    }
   ],
   "source": [
    "porter_stemmer = PorterStemmer()\n",
    "\n",
    "for word in words:\n",
    "    print(word+'----->'+ porter_stemmer.stem(word) )\n",
    "    "
   ]
  },
  {
   "cell_type": "markdown",
   "metadata": {},
   "source": [
    "#### snowball stemmer \n",
    "top of porter stemmer , it works base for many words but there are few words which are not getting coorectly so we cant use in chatbot"
   ]
  },
  {
   "cell_type": "code",
   "execution_count": 25,
   "metadata": {},
   "outputs": [
    {
     "name": "stdout",
     "output_type": "stream",
     "text": [
      "eat----->eat\n",
      "eaten ----->eaten \n",
      "eating----->eat\n",
      "heating----->heat\n",
      "go----->go\n",
      "gone----->gone\n",
      "goes----->goe\n",
      "history ----->history \n",
      "programming ----->programming \n",
      "working----->work\n",
      "workdone----->workdon\n"
     ]
    }
   ],
   "source": [
    "snowball_stemmer = SnowballStemmer('english')\n",
    "\n",
    "for word in words:\n",
    "    print(word+'----->'+ porter_stemmer.stem(word) )\n",
    "    \n"
   ]
  },
  {
   "cell_type": "markdown",
   "metadata": {},
   "source": [
    "#### regexp stemmer\n",
    "if you want to remove any words at the last we can use this \n",
    "\n",
    "goes  ---es$\n",
    "\n",
    "going  ---ing$    \n",
    "\n",
    "if we give like above expression will get o/p like go "
   ]
  },
  {
   "cell_type": "code",
   "execution_count": 41,
   "metadata": {},
   "outputs": [
    {
     "name": "stdout",
     "output_type": "stream",
     "text": [
      "eat----->eat\n",
      "eaten ----->eaten \n",
      "eating----->eat\n",
      "heating----->heat\n",
      "go----->go\n",
      "gone----->gone\n",
      "goes----->goe\n",
      "history ----->history \n",
      "programming ----->programming \n",
      "working----->work\n",
      "workdone----->workdon\n"
     ]
    }
   ],
   "source": [
    "regexp_stemmer = RegexpStemmer('ing$|s$|e$|able$', min=4)  \n",
    "#remove only that pattern od words if present in last  can give based on our requirememt\n",
    "\n",
    "for word in words:\n",
    "    print(word+'----->'+ porter_stemmer.stem(word) )\n",
    "    "
   ]
  },
  {
   "cell_type": "code",
   "execution_count": null,
   "metadata": {},
   "outputs": [],
   "source": []
  },
  {
   "cell_type": "code",
   "execution_count": null,
   "metadata": {},
   "outputs": [],
   "source": []
  },
  {
   "cell_type": "code",
   "execution_count": null,
   "metadata": {},
   "outputs": [],
   "source": []
  },
  {
   "cell_type": "code",
   "execution_count": null,
   "metadata": {},
   "outputs": [],
   "source": []
  },
  {
   "cell_type": "code",
   "execution_count": null,
   "metadata": {},
   "outputs": [],
   "source": []
  }
 ],
 "metadata": {
  "kernelspec": {
   "display_name": "venv",
   "language": "python",
   "name": "python3"
  },
  "language_info": {
   "codemirror_mode": {
    "name": "ipython",
    "version": 3
   },
   "file_extension": ".py",
   "mimetype": "text/x-python",
   "name": "python",
   "nbconvert_exporter": "python",
   "pygments_lexer": "ipython3",
   "version": "3.12.8"
  }
 },
 "nbformat": 4,
 "nbformat_minor": 2
}
