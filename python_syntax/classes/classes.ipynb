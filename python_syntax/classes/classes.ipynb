{
 "cells": [
  {
   "cell_type": "code",
   "execution_count": 7,
   "metadata": {},
   "outputs": [],
   "source": [
    "#we use class (blueprint)coz we can reuse similar characterstics overall without messing up with the variables\n",
    "\n",
    "#Instance variables are variables that are specific to an instance of a class and methods are defined to use these instance variables\n",
    "#Instance variables are defined in the constructor and defined by using self keyword\n",
    "\n",
    "class dog:\n",
    "    #constructor \n",
    "    def __init__(self,name,age): #instance variable \n",
    "        self.name=name\n",
    "        self.age=age\n",
    "    #define class instance method\n",
    "    def bark(self):\n",
    "        print(f\"{self.name} is barking\")\n",
    "    \n",
    "    "
   ]
  },
  {
   "cell_type": "code",
   "execution_count": 6,
   "metadata": {},
   "outputs": [
    {
     "name": "stdout",
     "output_type": "stream",
     "text": [
      "Tommy\n",
      "5\n",
      "Tommy is barking\n"
     ]
    }
   ],
   "source": [
    "dog1=dog(\"Tommy\",5)\n",
    "dog2=dog(\"Bruno\",6)\n",
    "print(dog1.name)\n",
    "print(dog1.age)\n",
    "dog1.bark()"
   ]
  },
  {
   "cell_type": "code",
   "execution_count": 1,
   "metadata": {},
   "outputs": [],
   "source": [
    "#inheritance (single and multiple)\n",
    "class car:\n",
    "    def __init__(self,window,door,enginetype):\n",
    "        self.window=window\n",
    "        self.door=door\n",
    "        self.enginetype=enginetype\n",
    "        \n",
    "    def drive(self):\n",
    "        print(\"The person is driving the car with the (self.enginetype) engine\")\n",
    "        "
   ]
  },
  {
   "cell_type": "code",
   "execution_count": 12,
   "metadata": {},
   "outputs": [],
   "source": [
    "class Tesla(car):\n",
    "    def __init__(self,window,enginetype,is_selfdrive):\n",
    "        super.__init__(window,enginetype)\n",
    "        self.is_selfdrive=is_selfdrive\n",
    "        \n",
    "    def self_drive(self):\n",
    "        print(\"the car supports {self.is_selfdrive} feature\")\n",
    "        "
   ]
  },
  {
   "cell_type": "code",
   "execution_count": null,
   "metadata": {},
   "outputs": [],
   "source": [
    "# #multiple inhertiace\n",
    "# class hybrid(car,Tesla):\n",
    "#     def __init__(self,window,door , enginetype,is_selfdrive):\n",
    "#         car.__init__(self,window,door,enginetype)\n",
    "#         Tesla.__init__(self,is_selfdrive)\n",
    "#         super.__init__(window,door,enginetype)\n",
    "    \n",
    "#         Tesla.__init__(self,is_selfdrive)\n",
    "        "
   ]
  },
  {
   "cell_type": "code",
   "execution_count": null,
   "metadata": {},
   "outputs": [],
   "source": [
    "#polymorphism\n",
    "#we can change the behaviour of the method in the child class(with the same name)  #method overriding\n",
    "#inheritence (@abstarctmethod) #method overloading ....initially its the emoty methid we will implement in all the  dervied methods"
   ]
  },
  {
   "cell_type": "code",
   "execution_count": null,
   "metadata": {},
   "outputs": [],
   "source": [
    "#encapsulation \n",
    "#wrappoing the data(resdtrict the direct access)\n",
    "\n",
    "# getter and setter\n",
    "#pubklic,private,protected'\n",
    "\n",
    "class person:\n",
    "    def __init__(self ,name , age ,gender) :\n",
    "        self.name=name #public\n",
    "        self.__age=age #private  (cannot be accessed outsde the class)\n",
    "        slef._gender = gender #protected  deriuved class/child class will be abel to acess it \n",
    "        "
   ]
  },
  {
   "cell_type": "code",
   "execution_count": null,
   "metadata": {},
   "outputs": [],
   "source": [
    "#getetr and setter \n",
    "class person:\n",
    "    def __init__(self ,name,age):\n",
    "        self.name  = name\n",
    "        self.__age = age # provate cant access directly so need to use getter and setter\n",
    "      \n",
    "     #getter method   \n",
    "    def get_age(self):\n",
    "        return self.__age   #now we be abel to access the private variable\n",
    "    #setter method\n",
    "    def set_age(self,age):  #to access and set validation in the private variable setter \n",
    "        if age>0:\n",
    "            self.__age=age\n",
    "        else:\n",
    "            print(\"age cannot be negative\")\n",
    "    \n",
    "    "
   ]
  },
  {
   "cell_type": "code",
   "execution_count": null,
   "metadata": {},
   "outputs": [],
   "source": [
    "#abstract class\n",
    "#showing only necessary feature and hiding the implementation\n",
    "\n",
    "from abc import ABC,abstractmethod      # for main call we have to inherit abstract base class(ABC)"
   ]
  },
  {
   "cell_type": "code",
   "execution_count": null,
   "metadata": {},
   "outputs": [],
   "source": []
  },
  {
   "cell_type": "code",
   "execution_count": null,
   "metadata": {},
   "outputs": [],
   "source": []
  },
  {
   "cell_type": "code",
   "execution_count": null,
   "metadata": {},
   "outputs": [],
   "source": []
  },
  {
   "cell_type": "code",
   "execution_count": null,
   "metadata": {},
   "outputs": [],
   "source": []
  }
 ],
 "metadata": {
  "kernelspec": {
   "display_name": "venv",
   "language": "python",
   "name": "python3"
  },
  "language_info": {
   "codemirror_mode": {
    "name": "ipython",
    "version": 3
   },
   "file_extension": ".py",
   "mimetype": "text/x-python",
   "name": "python",
   "nbconvert_exporter": "python",
   "pygments_lexer": "ipython3",
   "version": "3.12.8"
  }
 },
 "nbformat": 4,
 "nbformat_minor": 2
}
