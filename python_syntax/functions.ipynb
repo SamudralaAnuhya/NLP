{
 "cells": [
  {
   "cell_type": "code",
   "execution_count": 12,
   "metadata": {},
   "outputs": [],
   "source": [
    "def even_or_odd(num):\n",
    "    \"\"\"Return odd or even depending on the number\"\"\"\n",
    "    if num % 2 == 0:\n",
    "        print(\"Even\")\n",
    "    else:\n",
    "        print(\"Odd\")  "
   ]
  },
  {
   "cell_type": "code",
   "execution_count": 13,
   "metadata": {},
   "outputs": [],
   "source": [
    "#positional argument\n",
    "def multiple_number(*num):  #*args ..will take multiple arguments\n",
    "    for i in num:\n",
    "        print(i)"
   ]
  },
  {
   "cell_type": "code",
   "execution_count": 14,
   "metadata": {},
   "outputs": [
    {
     "name": "stdout",
     "output_type": "stream",
     "text": [
      "1\n",
      "2\n",
      "23\n",
      "2143\n",
      "2\n",
      "32423\n"
     ]
    }
   ],
   "source": [
    "x = multiple_number(1,2,23,2143,2,32423)"
   ]
  },
  {
   "cell_type": "code",
   "execution_count": 15,
   "metadata": {},
   "outputs": [],
   "source": [
    "#keyword argument (every value in key value pairs)\n",
    "def keyword_argument(**kwargs):  #**kwargs ..will take multiple keyword arguments\n",
    "    for key, value in kwargs.items():\n",
    "        print(key, value)"
   ]
  },
  {
   "cell_type": "code",
   "execution_count": 16,
   "metadata": {},
   "outputs": [
    {
     "name": "stdout",
     "output_type": "stream",
     "text": [
      "name John\n",
      "age 23\n",
      "city New York\n"
     ]
    }
   ],
   "source": [
    "keyword_argument(name=\"John\", age=23, city=\"New York\")"
   ]
  },
  {
   "cell_type": "code",
   "execution_count": 17,
   "metadata": {},
   "outputs": [
    {
     "name": "stdout",
     "output_type": "stream",
     "text": [
      "212.0\n"
     ]
    }
   ],
   "source": [
    "def convert_temperature(temp, unit):\n",
    "    if unit == \"c\":\n",
    "        return (temp * 9/5) + 32\n",
    "    elif unit == \"f\":\n",
    "        return (temp - 32) * 5/9\n",
    "    else:\n",
    "        return \"Invalid unit\"\n",
    "    \n",
    "\n",
    "print(convert_temperature(100, \"c\")) "
   ]
  },
  {
   "cell_type": "code",
   "execution_count": 18,
   "metadata": {},
   "outputs": [
    {
     "name": "stdout",
     "output_type": "stream",
     "text": [
      "Password is strong\n"
     ]
    }
   ],
   "source": [
    "#password strength checker\n",
    "def password_strength(password):\n",
    "    \"\"\" Check if the password is strong or weak\"\"\"\n",
    "    if len(password) > 8:\n",
    "        if any(char.isdigit() for char in password):\n",
    "            if any(char.isupper() for char in password):\n",
    "                if any(char.islower() for char in password):\n",
    "                    if any(char in \"!@#$%^&*\" for char in password):\n",
    "                        return \"Password is strong\"\n",
    "                    else:\n",
    "                        return \"Password is weak\"\n",
    "                else: return \"Password is weak\"\n",
    "            else: return \"Password is weak\"\n",
    "        else: return \"Password is weak\"\n",
    "        \n",
    "    else: return \"Password is weak\"\n",
    "\n",
    "print(password_strength(\"John@1234\"))"
   ]
  },
  {
   "cell_type": "code",
   "execution_count": 19,
   "metadata": {},
   "outputs": [
    {
     "name": "stdout",
     "output_type": "stream",
     "text": [
      "140\n"
     ]
    }
   ],
   "source": [
    "#caliculate total cost of the items in shopping cart\n",
    "\n",
    "def total_cost(cart):\n",
    "    total = 0\n",
    "    \n",
    "    for item in cart:\n",
    "        total += item[\"price\"] * item[\"quantity\"]\n",
    "    return total\n",
    "\n",
    "cart = [\n",
    "    {\"item\": \"Shirt\", \"price\": 20 , \"quantity\": 3},\n",
    "    {\"item\": \"Pants\", \"price\": 30 , \"quantity\": 1},\n",
    "    {\"item\": \"Shoes\", \"price\": 50 , \"quantity\": 1},\n",
    "]\n",
    "\n",
    "print(total_cost(cart))"
   ]
  },
  {
   "cell_type": "code",
   "execution_count": 20,
   "metadata": {},
   "outputs": [
    {
     "name": "stdout",
     "output_type": "stream",
     "text": [
      "Word is palindrom\n"
     ]
    }
   ],
   "source": [
    "#check if string is a palindrom\n",
    "def palindrom(word):\n",
    "    if word ==  word[::-1]:\n",
    "        return \"Word is palindrom\"\n",
    "    else:\n",
    "        return \"Word is not palindrom\"\n",
    "    \n",
    "print(palindrom(\"madam\"))"
   ]
  },
  {
   "cell_type": "code",
   "execution_count": 21,
   "metadata": {},
   "outputs": [
    {
     "name": "stdout",
     "output_type": "stream",
     "text": [
      "120\n"
     ]
    }
   ],
   "source": [
    "#factorial of a number using recursion\n",
    "def factorial(num):\n",
    "    if num == 0:\n",
    "        return 1\n",
    "    else:\n",
    "        return num * factorial(num-1)\n",
    "    \n",
    "print(factorial(5))"
   ]
  },
  {
   "cell_type": "code",
   "execution_count": 22,
   "metadata": {},
   "outputs": [
    {
     "name": "stdout",
     "output_type": "stream",
     "text": [
      "19\n"
     ]
    }
   ],
   "source": [
    "#read file and count the words\n",
    "def count_words(file):\n",
    "    with open(file, \"r\") as file:\n",
    "        words = file.read().split()\n",
    "    return len(words)\n",
    "    \n",
    "file_path = 'sample.txt'\n",
    "print(count_words(file_path))"
   ]
  },
  {
   "cell_type": "code",
   "execution_count": 23,
   "metadata": {},
   "outputs": [],
   "source": [
    "def count_word_frequency(file):\n",
    "    with open('file' ,\"r\") as file:\n",
    "        words = file.read().split().strip(',.!@#$%^&*()?').lower()\n",
    "        word_freq = {}\n",
    "        for word in words:\n",
    "            if word in word_freq:\n",
    "                word_freq[word] += 1\n",
    "            else:\n",
    "                word_freq[word] = 1\n",
    "    return word_freq\n",
    "\n",
    "        \n",
    "        "
   ]
  },
  {
   "cell_type": "code",
   "execution_count": 24,
   "metadata": {},
   "outputs": [
    {
     "name": "stdout",
     "output_type": "stream",
     "text": [
      "<re.Match object; span=(0, 10), match='abc@gc.com'>\n",
      "<re.Match object; span=(0, 12), match='123-456-7891'>\n"
     ]
    }
   ],
   "source": [
    "import re \n",
    "\n",
    "#validate email address\n",
    "def validate_email(email):\n",
    "    pattern = r\"^[a-zA-Z0-9_.+-]+@[a-zA-Z0-9-]+\\.[a-zA-Z0-9-.]+$\"\n",
    "    return re.match(pattern, email) \n",
    "\n",
    "def validate_phone_number(phone):\n",
    "    pattern = r\"^\\d{3}-\\d{3}-\\d{4}$\"\n",
    "    return re.match(pattern, phone)\n",
    "\n",
    "print(validate_email(\"abc@gc.com\"))\n",
    "print(validate_phone_number(\"123-456-7891\"))\n"
   ]
  },
  {
   "cell_type": "code",
   "execution_count": 25,
   "metadata": {},
   "outputs": [],
   "source": [
    "def merge_lists_to_dictionary(keys, values):\n",
    "    #different length of keys and values\n",
    "    if len(keys) != len(values):\n",
    "        return \"Length of keys and values should be same\"\n",
    "    else:\n",
    "        return dict(zip(keys, values))"
   ]
  },
  {
   "cell_type": "code",
   "execution_count": 26,
   "metadata": {},
   "outputs": [],
   "source": [
    "def count_word_frequency(sentence):\n",
    "    words = sentence.split()\n",
    "    word_freq = {}\n",
    "    #if sentence is empty \n",
    "    if len(words) == 0:\n",
    "        return \"Sentence is empty\"\n",
    "    for word in words:\n",
    "        if word in word_freq:\n",
    "            word_freq[word] += 1\n",
    "        else:\n",
    "            word_freq[word] = 1\n",
    "    return word_freq"
   ]
  },
  {
   "cell_type": "code",
   "execution_count": null,
   "metadata": {},
   "outputs": [],
   "source": [
    "def is_palindromic_tuple(tup):\n",
    "    if tup == tup[::-1]:\n",
    "        return True\n",
    "    else:\n",
    "        return False\n",
    "        \n"
   ]
  },
  {
   "cell_type": "code",
   "execution_count": 27,
   "metadata": {},
   "outputs": [],
   "source": [
    "def merge_dicts_with_overlapping_keys(dicts):\n",
    "    result = {}\n",
    "    for d in dicts:\n",
    "        for key, value in d.items():\n",
    "            if key in result:\n",
    "                result[key] += value\n",
    "            else:\n",
    "                result[key] = value\n",
    "    return result"
   ]
  },
  {
   "cell_type": "code",
   "execution_count": null,
   "metadata": {},
   "outputs": [],
   "source": [
    "def rotate_list(lst, k):\n",
    "    \"\"\"input: lst = [1, 2, 3, 4, 5], k = 2\n",
    "Output: [4, 5, 1, 2, 3]\n",
    "\n",
    "Input: lst = [10, 20, 30, 40, 50], k = 3\n",
    "Output: [30, 40, 50, 10, 20]\"\"\" \n",
    "    return lst[-k:] + lst[:-k]\n",
    "\n"
   ]
  }
 ],
 "metadata": {
  "kernelspec": {
   "display_name": "venv",
   "language": "python",
   "name": "python3"
  },
  "language_info": {
   "codemirror_mode": {
    "name": "ipython",
    "version": 3
   },
   "file_extension": ".py",
   "mimetype": "text/x-python",
   "name": "python",
   "nbconvert_exporter": "python",
   "pygments_lexer": "ipython3",
   "version": "3.12.8"
  }
 },
 "nbformat": 4,
 "nbformat_minor": 2
}
