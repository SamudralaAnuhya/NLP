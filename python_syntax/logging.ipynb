{
 "cells": [
  {
   "cell_type": "code",
   "execution_count": 2,
   "metadata": {},
   "outputs": [
    {
     "name": "stderr",
     "output_type": "stream",
     "text": [
      "INFO:root:Starting the program\n",
      "WARNING:root:This is a warning\n",
      "ERROR:root:This is an error\n",
      "CRITICAL:root:This is a critical message\n"
     ]
    }
   ],
   "source": [
    "import logging\n",
    "import os\n",
    "\n",
    "#basic logging settings \n",
    "logging.basicConfig(level=logging.debug )\n",
    "logging.info(\"Starting the program\")\n",
    "logging.warning(\"This is a warning\")\n",
    "logging.error(\"This is an error\")\n",
    "logging.debug(\"This is a debug message\")\n",
    "logging.critical(\"This is a critical message\")\n"
   ]
  },
  {
   "cell_type": "code",
   "execution_count": 3,
   "metadata": {},
   "outputs": [],
   "source": [
    "logging.basicConfig(\n",
    "    level = logging.DEBUG,\n",
    "    format = '%(asctime)s - %(name)s - %(levelname)s - %(message)s',    \n",
    ")"
   ]
  },
  {
   "cell_type": "code",
   "execution_count": 9,
   "metadata": {},
   "outputs": [
    {
     "name": "stderr",
     "output_type": "stream",
     "text": [
      "INFO:root:Starting the program\n",
      "WARNING:root:This is a warning\n",
      "ERROR:root:This is an error\n",
      "CRITICAL:root:This is a critical message\n"
     ]
    }
   ],
   "source": [
    "logging.basicConfig(\n",
    "    filename= 'app.log',\n",
    "    filemode= 'W',\n",
    "    level = logging.DEBUG,\n",
    "    format = '%(asctime)s - %(name)s - %(levelname)s - %(message)s',\n",
    "   \n",
    "\n",
    ")\n",
    "\n",
    "logging.info(\"Starting the program\")\n",
    "logging.warning(\"This is a warning\")\n",
    "logging.error(\"This is an error\")\n",
    "logging.debug(\"This is a debug message\")\n",
    "logging.critical(\"This is a critical message\")"
   ]
  },
  {
   "cell_type": "code",
   "execution_count": null,
   "metadata": {},
   "outputs": [],
   "source": []
  },
  {
   "cell_type": "code",
   "execution_count": null,
   "metadata": {},
   "outputs": [],
   "source": []
  },
  {
   "cell_type": "code",
   "execution_count": null,
   "metadata": {},
   "outputs": [],
   "source": []
  },
  {
   "cell_type": "code",
   "execution_count": null,
   "metadata": {},
   "outputs": [],
   "source": []
  }
 ],
 "metadata": {
  "kernelspec": {
   "display_name": "venv",
   "language": "python",
   "name": "python3"
  },
  "language_info": {
   "codemirror_mode": {
    "name": "ipython",
    "version": 3
   },
   "file_extension": ".py",
   "mimetype": "text/x-python",
   "name": "python",
   "nbconvert_exporter": "python",
   "pygments_lexer": "ipython3",
   "version": "3.12.8"
  }
 },
 "nbformat": 4,
 "nbformat_minor": 2
}
