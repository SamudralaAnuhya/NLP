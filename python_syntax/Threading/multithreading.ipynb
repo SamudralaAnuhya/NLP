{
 "cells": [
  {
   "cell_type": "markdown",
   "metadata": {},
   "source": [
    "Multithreading \n",
    "\n",
    "when to use : \n",
    "I/O bound tasks : tasks that spend more time waiting on I/O operations (eg : file operations )\n",
    "\n",
    "concurrent execution : when you want top throughput \n"
   ]
  },
  {
   "cell_type": "code",
   "execution_count": 11,
   "metadata": {},
   "outputs": [],
   "source": [
    "import threading\n",
    "from datetime import datetime"
   ]
  },
  {
   "cell_type": "code",
   "execution_count": 14,
   "metadata": {},
   "outputs": [
    {
     "name": "stdout",
     "output_type": "stream",
     "text": [
      "Number : 0\n",
      "Number : 1\n",
      "Number : 2\n",
      "Number : 3\n",
      "Number : 4\n",
      "letter : a\n",
      "letter : b\n",
      "letter : c\n",
      "letter : d\n",
      "letter : e\n",
      "Elapsed time: 0:00:20.039504\n"
     ]
    }
   ],
   "source": [
    "def print_numbers():\n",
    "    for i in range(5):\n",
    "        time.sleep(2)  #some I/o operation is happening here\n",
    "        print(f\"Number : {i}\")\n",
    "        \n",
    "def print_letter():\n",
    "    for letter in 'abcde':\n",
    "        time.sleep(2)\n",
    "        print(f\"letter : {letter}\" )\n",
    "\n",
    "t = datetime.now()\n",
    "print_numbers()\n",
    "print_letter()\n",
    "finished_time = datetime.now() - t\n",
    "\n",
    "print(f\"Elapsed time: {finished_time}\")"
   ]
  },
  {
   "cell_type": "markdown",
   "metadata": {},
   "source": [
    "#### add multithreading you can see functions are excuring paralley and total excution time is reduced\n",
    "initialize thread , start , join "
   ]
  },
  {
   "cell_type": "code",
   "execution_count": 15,
   "metadata": {},
   "outputs": [
    {
     "name": "stdout",
     "output_type": "stream",
     "text": [
      "letter : aNumber : 0\n",
      "\n",
      "letter : b\n",
      "Number : 1\n",
      "letter : c\n",
      "Number : 2\n",
      "letter : d\n",
      "Number : 3\n",
      "letter : e\n",
      "Number : 4\n",
      "Elapsed time: 0:00:10.024080\n"
     ]
    }
   ],
   "source": [
    "def print_numbers():\n",
    "    for i in range(5):\n",
    "        time.sleep(2)  #some I/o operation is happening here\n",
    "        print(f\"Number : {i}\")\n",
    "        \n",
    "def print_letter():\n",
    "    for letter in 'abcde':\n",
    "        time.sleep(2)\n",
    "        print(f\"letter : {letter}\" )\n",
    "        \n",
    "#create threads to excute paralley\n",
    "t1 = threading.Thread(target= print_numbers)\n",
    "t2 = threading.Thread(target=print_letter)\n",
    "\n",
    "\n",
    "\n",
    "t = datetime.now()\n",
    "t1.start()\n",
    "t2.start()\n",
    "\n",
    "t1.join()\n",
    "t2.join\n",
    "\n",
    "\n",
    "finished_time = datetime.now() - t\n",
    "\n",
    "print(f\"Elapsed time: {finished_time}\")"
   ]
  },
  {
   "cell_type": "code",
   "execution_count": null,
   "metadata": {},
   "outputs": [],
   "source": []
  },
  {
   "cell_type": "code",
   "execution_count": null,
   "metadata": {},
   "outputs": [],
   "source": []
  },
  {
   "cell_type": "code",
   "execution_count": null,
   "metadata": {},
   "outputs": [],
   "source": []
  },
  {
   "cell_type": "code",
   "execution_count": null,
   "metadata": {},
   "outputs": [],
   "source": []
  },
  {
   "cell_type": "code",
   "execution_count": null,
   "metadata": {},
   "outputs": [],
   "source": []
  },
  {
   "cell_type": "code",
   "execution_count": null,
   "metadata": {},
   "outputs": [],
   "source": []
  },
  {
   "cell_type": "code",
   "execution_count": null,
   "metadata": {},
   "outputs": [],
   "source": []
  }
 ],
 "metadata": {
  "kernelspec": {
   "display_name": "venv",
   "language": "python",
   "name": "python3"
  },
  "language_info": {
   "codemirror_mode": {
    "name": "ipython",
    "version": 3
   },
   "file_extension": ".py",
   "mimetype": "text/x-python",
   "name": "python",
   "nbconvert_exporter": "python",
   "pygments_lexer": "ipython3",
   "version": "3.12.8"
  }
 },
 "nbformat": 4,
 "nbformat_minor": 2
}
