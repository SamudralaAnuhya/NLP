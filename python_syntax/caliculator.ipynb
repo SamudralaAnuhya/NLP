{
 "cells": [
  {
   "cell_type": "code",
   "execution_count": 92,
   "metadata": {},
   "outputs": [
    {
     "name": "stdout",
     "output_type": "stream",
     "text": [
      "Sum:  6.0\n",
      "Product:  8.0\n",
      "Difference:  -2.0\n",
      "Quotient:  0.5\n",
      "Remainder:  2.0\n",
      "Exponent:  16.0\n",
      "Division:  0.0\n"
     ]
    }
   ],
   "source": [
    "num1 = input(\"Enter first number: \")\n",
    "num2 = input(\"Enter second number: \")\n",
    "#int(input(\"Enter first number: \"))   ..type cast by default it will be string if we need can change to int \n",
    "\n",
    "sum = float(num1) + float(num2)\n",
    "product = float(num1) * float(num2)\n",
    "difference = float(num1) - float(num2)\n",
    "quotient = float(num1) / float(num2)\n",
    "remainder = float(num1) % float(num2)\n",
    "division = float(num1) // float(num2)\n",
    "exponent = float(num1) ** float(num2)\n",
    "\n",
    "\n",
    "print(\"Sum: \", sum)\n",
    "print(\"Product: \", product)\n",
    "print(\"Difference: \", difference)\n",
    "print(\"Quotient: \", quotient)\n",
    "print(\"Remainder: \", remainder)\n",
    "print(\"Exponent: \", exponent)\n",
    "print(\"Division: \", division)\n",
    "\n"
   ]
  },
  {
   "cell_type": "code",
   "execution_count": 4,
   "metadata": {},
   "outputs": [
    {
     "name": "stdout",
     "output_type": "stream",
     "text": [
      "The reversed string is: ayhuna\n"
     ]
    }
   ],
   "source": [
    "# reverese_string\n",
    "string = input(\"Enter a string: \")\n",
    "reversed_string = string[::-1]\n",
    "print(f\"The reversed string is: {reversed_string}\")"
   ]
  },
  {
   "cell_type": "code",
   "execution_count": 13,
   "metadata": {},
   "outputs": [
    {
     "name": "stdout",
     "output_type": "stream",
     "text": [
      "['mango']\n",
      "['kiwi', 'melon']\n",
      "['apple', 'banana', 'cherry', 'orange', 'kiwi']\n",
      "['apple', 'cherry', 'kiwi', 'mango']\n",
      "['mango', 'kiwi', 'cherry', 'apple']\n"
     ]
    }
   ],
   "source": [
    "fruits = [\"apple\", \"banana\", \"cherry\", \"orange\", \"kiwi\", \"melon\", \"mango\"]\n",
    "print(fruits[-1:])\n",
    "print(fruits[-3:-1])\n",
    "print(fruits[:5])\n",
    "print(fruits[::2]) #step\n",
    "print(fruits[::-2])\n"
   ]
  },
  {
   "cell_type": "code",
   "execution_count": 17,
   "metadata": {},
   "outputs": [
    {
     "name": "stdout",
     "output_type": "stream",
     "text": [
      "0 apple\n",
      "1 banana\n",
      "2 cherry\n",
      "3 orange\n",
      "4 kiwi\n",
      "5 melon\n",
      "6 mango\n"
     ]
    }
   ],
   "source": [
    "#enumerate is to print index\n",
    "for index, fruit in enumerate(fruits):\n",
    "    print(index, fruit)"
   ]
  },
  {
   "cell_type": "code",
   "execution_count": 18,
   "metadata": {},
   "outputs": [
    {
     "name": "stdout",
     "output_type": "stream",
     "text": [
      "[0, 1, 4, 9, 16, 25]\n"
     ]
    }
   ],
   "source": [
    "lst = []\n",
    "for x in range(6):\n",
    "    lst.append(x**2)\n",
    "print(lst)"
   ]
  },
  {
   "cell_type": "code",
   "execution_count": 20,
   "metadata": {},
   "outputs": [
    {
     "data": {
      "text/plain": [
       "[0, 1, 4, 9, 16, 25]"
      ]
     },
     "execution_count": 20,
     "metadata": {},
     "output_type": "execute_result"
    }
   ],
   "source": [
    "#list comprehension\n",
    "[ x**2 for x in range(6)]    "
   ]
  },
  {
   "cell_type": "code",
   "execution_count": 23,
   "metadata": {},
   "outputs": [
    {
     "name": "stdout",
     "output_type": "stream",
     "text": [
      "[0, 2, 4, 6, 8]\n"
     ]
    }
   ],
   "source": [
    "even = [num for num in range(10) if num % 2 == 0]    #[output and expression for item in iterable if condition]\n",
    "print(even)"
   ]
  },
  {
   "cell_type": "code",
   "execution_count": 31,
   "metadata": {},
   "outputs": [
    {
     "name": "stdout",
     "output_type": "stream",
     "text": [
      "[[1, 'a'], [1, 'b'], [1, 'c'], [1, 'd'], [2, 'a'], [2, 'b'], [2, 'c'], [2, 'd'], [3, 'a'], [3, 'b'], [3, 'c'], [3, 'd']]\n"
     ]
    }
   ],
   "source": [
    "list1 = [1, 2, 3]\n",
    "list2 = ['a' , 'b', 'c' , 'd' ] \n",
    "pairs = [[i,j] for i in list1 for j in list2]\n",
    "print(pairs)\n"
   ]
  },
  {
   "cell_type": "code",
   "execution_count": 50,
   "metadata": {},
   "outputs": [
    {
     "name": "stdout",
     "output_type": "stream",
     "text": [
      "[2, 3, 4]\n",
      "True\n"
     ]
    }
   ],
   "source": [
    "#tuples are immutable and unpacking\n",
    "num = (1, 2, 3, 4, 5)\n",
    "a,*b,c = num \n",
    "print(b)\n",
    "print(1 in num)"
   ]
  },
  {
   "cell_type": "code",
   "execution_count": 58,
   "metadata": {},
   "outputs": [
    {
     "name": "stdout",
     "output_type": "stream",
     "text": [
      "{1, 2, 3, 4, 5, 6, 7, 8, 9}\n",
      "{2, 3, 4, 5, 6, 7, 8}\n",
      "{2, 3, 4, 5, 6, 7, 8, 11, 12, 13, 14, 15}\n",
      "{2}\n"
     ]
    }
   ],
   "source": [
    "#sets --- will not have duplicate entries used for union intersection , symentric differencer {1,2,3,4,5}\n",
    "my_set = {1, 2, 3, 4, 5}\n",
    "my_set.add(6) \n",
    "my_set.update([7, 8, 9 , 9]) #add multiple elements but not duplicates \n",
    "print(my_set)  \n",
    "\n",
    "my_set.remove(9) # only works if there is number \n",
    "my_set.discard(10) #same like remove but if there is no number it will not throw error\n",
    "my_set.pop() #removes first element\n",
    "\n",
    "\n",
    "print(my_set)\n",
    "\n",
    "my_test2 = {11, 12, 13, 14, 15 ,2}\n",
    "print(my_set.union(my_test2))\n",
    "print(my_set.intersection(my_test2))\n"
   ]
  },
  {
   "cell_type": "code",
   "execution_count": 62,
   "metadata": {},
   "outputs": [
    {
     "name": "stdout",
     "output_type": "stream",
     "text": [
      "['I', 'am', 'learning', 'Python', 'and', 'it', 'is', 'fun', 'but', 'I', 'am', 'learning', 'it', 'for', 'the', 'first', 'time']\n",
      "17\n",
      "{'and', 'am', 'the', 'fun', 'Python', 'it', 'for', 'first', 'time', 'learning', 'but', 'I', 'is'}\n"
     ]
    }
   ],
   "source": [
    "text = \"I am learning Python and it is fun but I am learning it for the first time\"  \n",
    "words = text.split()\n",
    "print(words)\n",
    "\n",
    "#count the number of words in the text\n",
    "word_count = len(words)\n",
    "print(word_count)\n",
    "\n",
    "unique_words = set(words)\n",
    "print(unique_words)\n",
    "\n"
   ]
  },
  {
   "cell_type": "code",
   "execution_count": 75,
   "metadata": {},
   "outputs": [
    {
     "name": "stdout",
     "output_type": "stream",
     "text": [
      "John\n",
      "25\n",
      "not found\n",
      "dict_keys(['name', 'age', 'city'])\n",
      "{'name': 'John', 'age': 25, 'living': 'USA'}\n"
     ]
    }
   ],
   "source": [
    "#dictionary items , keys , values\n",
    "dict1 = {'name': 'John', 'age': 25, 'city': 'New York'}\n",
    "print(dict1['name'])\n",
    "print(dict1.get('age' , \"not found\")) #if key is not found it will return not found\n",
    "print(dict1.get('ages' , \"not found\")) #if key is not found it will return not found\n",
    "\n",
    "print(dict1.keys())\n",
    "\n",
    "\n",
    "# modifying (adding, updating, deleting) dictionary elements\n",
    "dict1['living'] = 'USA'\n",
    "del dict1['city']\n",
    "\n",
    "print(dict1)"
   ]
  },
  {
   "cell_type": "code",
   "execution_count": 76,
   "metadata": {},
   "outputs": [
    {
     "name": "stdout",
     "output_type": "stream",
     "text": [
      "{'name': 'John', 'age': 25, 'living': 'USA'}\n",
      "{'name': 'Jane', 'age': 25, 'living': 'USA'}\n"
     ]
    }
   ],
   "source": [
    "# shallow copy (provides different memory address)\n",
    "\n",
    "dict2 = dict1.copy()  #without copy it will ve changed in dict1 as well\n",
    "dict2['name'] = 'Jane'\n",
    "print(dict1)\n",
    "print(dict2)"
   ]
  },
  {
   "cell_type": "code",
   "execution_count": 80,
   "metadata": {},
   "outputs": [
    {
     "name": "stdout",
     "output_type": "stream",
     "text": [
      "name :John\n",
      "age :25\n",
      "living :USA\n"
     ]
    }
   ],
   "source": [
    "for key , value in dict1.items():\n",
    "    print(f\"{key} :{value}\" )"
   ]
  },
  {
   "cell_type": "code",
   "execution_count": 84,
   "metadata": {},
   "outputs": [
    {
     "name": "stdout",
     "output_type": "stream",
     "text": [
      "[0, 4, 16, 36, 64]\n",
      "{0: 0, 2: 4, 4: 16, 6: 36, 8: 64}\n"
     ]
    }
   ],
   "source": [
    "square_list = [ x**2 for x in range(10)  if x % 2 == 0]\n",
    "print(square_list)\n",
    "square_dict = { x : x**2 for x in range(10) if x % 2 == 0}\n",
    "print(square_dict)"
   ]
  },
  {
   "cell_type": "code",
   "execution_count": 86,
   "metadata": {},
   "outputs": [
    {
     "name": "stdout",
     "output_type": "stream",
     "text": [
      "{1: 3, 2: 2, 3: 2, 4: 2, 5: 2}\n",
      "{1: 3, 2: 2, 3: 2, 4: 2, 5: 2}\n"
     ]
    }
   ],
   "source": [
    "#count the frequncy of numbers in list \n",
    "list = [1, 2, 3, 4, 5, 1, 2, 3, 4, 5, 1]\n",
    "count_dict = {}\n",
    "\n",
    "#dicttionaty comprehension\n",
    "count_dict1 = {  i : list.count(i) for i in list}\n",
    "print(count_dict1)\n",
    "\n",
    "for i in list:\n",
    "    if i in count_dict:\n",
    "        count_dict[i] += 1\n",
    "    else:\n",
    "        count_dict[i] = 1\n",
    "print(count_dict)"
   ]
  },
  {
   "cell_type": "code",
   "execution_count": 91,
   "metadata": {},
   "outputs": [
    {
     "name": "stdout",
     "output_type": "stream",
     "text": [
      "{'name': 'John', 'age': 25, 'city': 'New York', 'name1': 'Jane', 'age1': 30, 'city1': 'Chicago'}\n"
     ]
    }
   ],
   "source": [
    "dict1 = {'name': 'John', 'age': 25, 'city': 'New York'}\n",
    "dict2 = {'name1': 'Jane', 'age1': 30, 'city1': 'Chicago'}\n",
    "merged_dict = { **dict1 , **dict2}  #merging two dictionaries key_word arguments (remove duplicates)\n",
    "print(merged_dict)"
   ]
  },
  {
   "cell_type": "code",
   "execution_count": null,
   "metadata": {},
   "outputs": [],
   "source": []
  }
 ],
 "metadata": {
  "kernelspec": {
   "display_name": "venv",
   "language": "python",
   "name": "python3"
  },
  "language_info": {
   "codemirror_mode": {
    "name": "ipython",
    "version": 3
   },
   "file_extension": ".py",
   "mimetype": "text/x-python",
   "name": "python",
   "nbconvert_exporter": "python",
   "pygments_lexer": "ipython3",
   "version": "3.12.8"
  }
 },
 "nbformat": 4,
 "nbformat_minor": 2
}
