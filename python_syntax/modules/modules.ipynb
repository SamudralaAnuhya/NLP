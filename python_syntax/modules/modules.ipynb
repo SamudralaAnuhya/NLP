{
 "cells": [
  {
   "cell_type": "code",
   "execution_count": 4,
   "metadata": {},
   "outputs": [],
   "source": [
    "import math \n",
    "from math import pi,sqrt\n",
    "import numpy as np"
   ]
  },
  {
   "cell_type": "code",
   "execution_count": 7,
   "metadata": {},
   "outputs": [],
   "source": [
    "import numpy as np "
   ]
  },
  {
   "cell_type": "code",
   "execution_count": 2,
   "metadata": {},
   "outputs": [
    {
     "name": "stdout",
     "output_type": "stream",
     "text": [
      "0\n",
      "anu \n"
     ]
    }
   ],
   "source": [
    "import random\n",
    "print(random.randint(0,9))\n",
    "print(random.choice(['anu ','sri','sai','sri']))"
   ]
  },
  {
   "cell_type": "code",
   "execution_count": 4,
   "metadata": {},
   "outputs": [
    {
     "name": "stdout",
     "output_type": "stream",
     "text": [
      "/Users/anuhyasamudrala/Documents/Anu_uncc/MLS/Types_of_regressions/python_syntax/modules\n"
     ]
    }
   ],
   "source": [
    "#file and directory access\n",
    "import os\n",
    "print(os.getcwd())  #get current working directory\n",
    "os.makedirs('test')  #create a directory"
   ]
  },
  {
   "cell_type": "code",
   "execution_count": 6,
   "metadata": {},
   "outputs": [
    {
     "data": {
      "text/plain": [
       "'destination.txt'"
      ]
     },
     "execution_count": 6,
     "metadata": {},
     "output_type": "execute_result"
    }
   ],
   "source": [
    "#high lebvel file operations\n",
    "import shutil\n",
    "shutil.copy('source.txt','destination.txt')  #create new file and copy source content to destination content \n"
   ]
  },
  {
   "cell_type": "code",
   "execution_count": null,
   "metadata": {},
   "outputs": [],
   "source": [
    "#data serialization \n",
    "import pickle\n",
    "import json \n",
    "\n",
    "json.dump() #create dict to json\n",
    "json.loads() #back to dict"
   ]
  },
  {
   "cell_type": "code",
   "execution_count": 7,
   "metadata": {},
   "outputs": [
    {
     "name": "stdout",
     "output_type": "stream",
     "text": [
      "['name', 'age']\n",
      "['anu', '25']\n",
      "['sri', '26']\n"
     ]
    }
   ],
   "source": [
    "import csv\n",
    "with open('test.csv','w',newline='') as file:\n",
    "    writer = csv.writer(file)\n",
    "    writer.writerow(['name','age'])\n",
    "    writer.writerow(['anu',25])\n",
    "    writer.writerow(['sri',26])\n",
    "    \n",
    "with open('test.csv','r') as file:\n",
    "    reader = csv.reader(file)\n",
    "    for row in reader:\n",
    "        print(row)"
   ]
  },
  {
   "cell_type": "code",
   "execution_count": 12,
   "metadata": {},
   "outputs": [
    {
     "name": "stdout",
     "output_type": "stream",
     "text": [
      "2025-01-04 00:44:27.770642\n"
     ]
    }
   ],
   "source": [
    "#datetime\n",
    "from datetime import datetime, timedelta\n",
    "print(datetime.now())\n",
    "\n",
    "now = datetime.now()\n",
    "yesterday = now - timedelta(days=1)"
   ]
  },
  {
   "cell_type": "code",
   "execution_count": 14,
   "metadata": {},
   "outputs": [
    {
     "name": "stdout",
     "output_type": "stream",
     "text": [
      "1735971325.854557\n",
      "1735971327.861119\n"
     ]
    }
   ],
   "source": [
    "#time\n",
    "import time\n",
    "print(time.time())\n",
    "time.sleep(2)\n",
    "print(time.time())"
   ]
  },
  {
   "cell_type": "code",
   "execution_count": 21,
   "metadata": {},
   "outputs": [
    {
     "name": "stdout",
     "output_type": "stream",
     "text": [
      " 123\n"
     ]
    }
   ],
   "source": [
    "#reglar expression (used to matcg string patterns)\n",
    "import re\n",
    "\n",
    "pattern = r'.\\d+'\n",
    "text = 'anu 123 sri 456'\n",
    "match = re.search(pattern,text)\n",
    "print(match.group())\n",
    "\n"
   ]
  },
  {
   "cell_type": "code",
   "execution_count": null,
   "metadata": {},
   "outputs": [],
   "source": [
    "#file operations\n",
    "\n",
    "with open('test.txt','r') as file:\n",
    "    print(file.read())\n",
    "    \n",
    "file.seek(0) #move the cursor to the beginning of the file"
   ]
  },
  {
   "cell_type": "code",
   "execution_count": 22,
   "metadata": {},
   "outputs": [
    {
     "name": "stdout",
     "output_type": "stream",
     "text": [
      "['destination.txt', 'modules.ipynb', 'source.txt', 'package']\n"
     ]
    }
   ],
   "source": [
    "items = os.listdir(os.getcwd())\n",
    "print(items)\n"
   ]
  },
  {
   "cell_type": "code",
   "execution_count": 23,
   "metadata": {},
   "outputs": [],
   "source": [
    "###joining paths \n",
    "\n",
    "path = os.path.join(os.getcwd(),'test')"
   ]
  },
  {
   "cell_type": "code",
   "execution_count": 26,
   "metadata": {},
   "outputs": [
    {
     "name": "stdout",
     "output_type": "stream",
     "text": [
      "name 'b' is not defined\n",
      "variable not defined\n",
      "finally block\n"
     ]
    }
   ],
   "source": [
    "#exceptions\n",
    "#zerodivisionerror , valueerror, typeerror, indexerror, keyerror, filenotfounderror, oserror, attributeerror, importerror, stopiteration, keyboardinterrupt, systemexit, exception\n",
    "try :\n",
    "    a=b\n",
    "except Exception as e:\n",
    "    print(e)\n",
    "\n",
    "\n",
    "#try except else finally\n",
    "try:\n",
    "    a=b \n",
    "except NameError:\n",
    "    print('variable not defined')\n",
    "else:\n",
    "    print('no exception')   #it exectes when there is no exception (ex : opening file)\n",
    "finally:\n",
    "    print('finally block')  #it executes alwaysn (ex : closing file)\n",
    "    "
   ]
  },
  {
   "cell_type": "code",
   "execution_count": null,
   "metadata": {},
   "outputs": [],
   "source": []
  },
  {
   "cell_type": "code",
   "execution_count": null,
   "metadata": {},
   "outputs": [],
   "source": []
  }
 ],
 "metadata": {
  "kernelspec": {
   "display_name": "venv",
   "language": "python",
   "name": "python3"
  },
  "language_info": {
   "codemirror_mode": {
    "name": "ipython",
    "version": 3
   },
   "file_extension": ".py",
   "mimetype": "text/x-python",
   "name": "python",
   "nbconvert_exporter": "python",
   "pygments_lexer": "ipython3",
   "version": "3.12.8"
  }
 },
 "nbformat": 4,
 "nbformat_minor": 2
}
