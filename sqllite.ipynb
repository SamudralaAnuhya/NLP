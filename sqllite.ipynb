{
 "cells": [
  {
   "cell_type": "code",
   "execution_count": 1,
   "metadata": {},
   "outputs": [],
   "source": [
    "import sqlite3"
   ]
  },
  {
   "cell_type": "code",
   "execution_count": 36,
   "metadata": {},
   "outputs": [
    {
     "data": {
      "text/plain": [
       "<sqlite3.Connection at 0x13183f790>"
      ]
     },
     "execution_count": 36,
     "metadata": {},
     "output_type": "execute_result"
    }
   ],
   "source": [
    "connection = sqlite3.connect('example.db')\n",
    "connection"
   ]
  },
  {
   "cell_type": "code",
   "execution_count": 4,
   "metadata": {},
   "outputs": [],
   "source": [
    "cursor = connection.cursor()"
   ]
  },
  {
   "cell_type": "code",
   "execution_count": 8,
   "metadata": {},
   "outputs": [],
   "source": [
    "#create table\n",
    "cursor.execute('''\n",
    "    create table if not exists employees(\n",
    "    id integer primary key,\n",
    "    name text not null,\n",
    "    position text not null,\n",
    "    salary real not null,\n",
    "    age integer not null,\n",
    "    department text not null\n",
    "    )\n",
    "            \n",
    "            ''')\n",
    "\n",
    "#commit changes \n",
    "connection.commit()"
   ]
  },
  {
   "cell_type": "code",
   "execution_count": 12,
   "metadata": {},
   "outputs": [],
   "source": [
    "cursor.execute('''\n",
    "    insert into employees (name, position, salary, age, department) \n",
    "    values('anu', 'Software Developer', 5000, 20, 'IT')\n",
    "               ''')\n",
    "\n",
    "cursor.execute('''\n",
    "    insert into employees (name, position, salary, age, department) \n",
    "    values('abc', 'Software Developer', 7000, 40, 'IT')\n",
    "               ''')\n",
    "\n",
    "cursor.execute('''\n",
    "    insert into employees (name, position, salary, age, department) \n",
    "    values('xyz', 'Software Developer', 8000, 50, 'IT')\n",
    "               ''')\n",
    "\n",
    "cursor.execute('''\n",
    "    insert into employees (name, position, salary, age, department) \n",
    "    values('vivek', 'Software Developer', 9000, 60, 'IT')\n",
    "               ''')\n",
    "\n",
    "\n",
    "connection.commit()\n"
   ]
  },
  {
   "cell_type": "code",
   "execution_count": 23,
   "metadata": {},
   "outputs": [
    {
     "name": "stdout",
     "output_type": "stream",
     "text": [
      "(1, 'anu', 'Software Developer', 10000.0, 20, 'IT')\n",
      "(2, 'abc', 'Software Developer', 7000.0, 40, 'IT')\n",
      "(4, 'vivek', 'Software Developer', 9000.0, 60, 'IT')\n"
     ]
    }
   ],
   "source": [
    "cursor.execute('select * from employees')\n",
    "rows = cursor.fetchall()\n",
    "for row in rows:\n",
    "    print(row)"
   ]
  },
  {
   "cell_type": "code",
   "execution_count": 18,
   "metadata": {},
   "outputs": [],
   "source": [
    "cursor.execute('update employees set salary = 10000 where name = \"anu\"')\n",
    "connection.commit()"
   ]
  },
  {
   "cell_type": "code",
   "execution_count": 24,
   "metadata": {},
   "outputs": [],
   "source": [
    "#delete\n",
    "cursor.execute('delete from employees where name = \"xyz\"')\n",
    "connection.commit()\n",
    "connection.close()"
   ]
  },
  {
   "cell_type": "markdown",
   "metadata": {},
   "source": [
    "#### complete steps"
   ]
  },
  {
   "cell_type": "code",
   "execution_count": 44,
   "metadata": {},
   "outputs": [],
   "source": [
    "#complete project \n",
    "connection = sqlite3.connect('sales_data.db')\n",
    "cursor = connection.cursor()\n",
    "\n",
    "#create table\n",
    "cursor.execute('''\n",
    "    CREATE TABLE IF NOT EXISTS sales_data(\n",
    "    id INTEGER PRIMARY KEY,\n",
    "    sales_date TEXT NOT NULL,\n",
    "    product_name TEXT NOT NULL,\n",
    "    sales_region TEXT\n",
    "    )\n",
    "    ''')\n",
    "\n",
    "\n",
    "# data_from = pd.read_csv('sales_data.csv')\n",
    "# data_from.to_sql('sales_data', connection, if_exists='replace', index=False)\n",
    "\n",
    "sales_data = [\n",
    "    ('2022-01-01', 'Product A', 'North'),\n",
    "    ('2022-01-02', 'Product B', 'South'),\n",
    "    ('2022-01-03', 'Product C', 'East'),\n",
    "    ('2022-01-04', 'Product D', 'West')\n",
    "]\n",
    "\n",
    "#insert data\n",
    "cursor.executemany('''\n",
    "    insert into sales_data (sales_date, product_name, sales_region)\n",
    "    values(?,?,?)\n",
    "    ''' , sales_data)\n",
    "\n",
    "#delete duplicate\n",
    "cursor.execute('''\n",
    "               DELETE FROM sales_data \n",
    "               WHERE id NOT IN (SELECT MIN(id) FROM sales_data \n",
    "               GROUP BY sales_date, product_name, sales_region)  \n",
    "                ''')\n",
    "\n",
    "connection.commit()\n",
    "\n"
   ]
  },
  {
   "cell_type": "code",
   "execution_count": 45,
   "metadata": {},
   "outputs": [
    {
     "name": "stdout",
     "output_type": "stream",
     "text": [
      "(1, '2022-01-01', 'Product A', 'North')\n",
      "(2, '2022-01-02', 'Product B', 'South')\n",
      "(3, '2022-01-03', 'Product C', 'East')\n",
      "(4, '2022-01-04', 'Product D', 'West')\n"
     ]
    }
   ],
   "source": [
    "#read data\n",
    "cursor.execute('select * from sales_data')\n",
    "rows = cursor.fetchall()\n",
    "for row in rows:\n",
    "    print(row)"
   ]
  },
  {
   "cell_type": "code",
   "execution_count": 46,
   "metadata": {},
   "outputs": [
    {
     "data": {
      "text/plain": [
       "<sqlite3.Cursor at 0x111a53c40>"
      ]
     },
     "execution_count": 46,
     "metadata": {},
     "output_type": "execute_result"
    }
   ],
   "source": [
    "#update \n",
    "cursor.execute('''\n",
    "            update sales_data set product_name = 'Product E' where id = 1\n",
    "               ''')"
   ]
  },
  {
   "cell_type": "code",
   "execution_count": 47,
   "metadata": {},
   "outputs": [
    {
     "data": {
      "text/plain": [
       "<sqlite3.Cursor at 0x111a53c40>"
      ]
     },
     "execution_count": 47,
     "metadata": {},
     "output_type": "execute_result"
    }
   ],
   "source": [
    "cursor.execute('''insert into sales_data \n",
    "               (sales_date, product_name, sales_region) \n",
    "               values(\"2022-01-05\", \"Product F\", \"North\")''')"
   ]
  },
  {
   "cell_type": "code",
   "execution_count": 48,
   "metadata": {},
   "outputs": [],
   "source": [
    "connection.close()"
   ]
  }
 ],
 "metadata": {
  "kernelspec": {
   "display_name": "venv",
   "language": "python",
   "name": "python3"
  },
  "language_info": {
   "codemirror_mode": {
    "name": "ipython",
    "version": 3
   },
   "file_extension": ".py",
   "mimetype": "text/x-python",
   "name": "python",
   "nbconvert_exporter": "python",
   "pygments_lexer": "ipython3",
   "version": "3.12.8"
  }
 },
 "nbformat": 4,
 "nbformat_minor": 2
}
